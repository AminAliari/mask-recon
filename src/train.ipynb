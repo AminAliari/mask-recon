{
    "cells": [
        {
            "cell_type": "code",
            "execution_count": 1,
            "metadata": {},
            "outputs": [],
            "source": [
                "import mask_dataset\n",
                "from config import config\n",
                "from model import MaskCNN\n",
                "\n",
                "import os\n",
                "import random\n",
                "os.environ['KMP_DUPLICATE_LIB_OK']='TRUE'\n",
                "\n",
                "import torch\n",
                "import numpy as np\n",
                "import torch.nn as nn\n",
                "import torch.optim as optim"
            ]
        },
        {
            "cell_type": "code",
            "execution_count": 2,
            "metadata": {},
            "outputs": [
                {
                    "data": {
                        "text/plain": [
                            "<torch._C.Generator at 0x1b4cb4c9af8>"
                        ]
                    },
                    "execution_count": 2,
                    "metadata": {},
                    "output_type": "execute_result"
                }
            ],
            "source": [
                "random.seed(config.random_seed)\n",
                "torch.manual_seed(config.random_seed)"
            ]
        },
        {
            "cell_type": "code",
            "execution_count": 3,
            "metadata": {},
            "outputs": [
                {
                    "name": "stdout",
                    "output_type": "stream",
                    "text": [
                        "cuda:0\n"
                    ]
                }
            ],
            "source": [
                "device = torch.device('cuda:0' if torch.cuda.is_available() else 'cpu')\n",
                "print(device)"
            ]
        },
        {
            "cell_type": "code",
            "execution_count": 4,
            "metadata": {},
            "outputs": [],
            "source": [
                "dataset = mask_dataset.MaskDataset(root_dir='../dataset', img_dim=config.img_dim)"
            ]
        },
        {
            "cell_type": "code",
            "execution_count": 5,
            "metadata": {},
            "outputs": [],
            "source": [
                "train_loader, valid_loader = dataset.get_data_loaders(batch_size=config.batch_size, use_shuffle=config.use_shuffle, split_ratio=config.split_ratio)"
            ]
        },
        {
            "cell_type": "code",
            "execution_count": 6,
            "metadata": {},
            "outputs": [
                {
                    "data": {
                        "text/plain": [
                            "MaskCNN(\n",
                            "  (classifier): Sequential(\n",
                            "    (0): Conv2d(3, 64, kernel_size=(5, 5), stride=(2, 2), padding=(2, 2))\n",
                            "    (1): BatchNorm2d(64, eps=1e-05, momentum=0.1, affine=True, track_running_stats=True)\n",
                            "    (2): ReLU()\n",
                            "    (3): Conv2d(64, 128, kernel_size=(5, 5), stride=(2, 2), padding=(2, 2))\n",
                            "    (4): BatchNorm2d(128, eps=1e-05, momentum=0.1, affine=True, track_running_stats=True)\n",
                            "    (5): ReLU()\n",
                            "    (6): Conv2d(128, 256, kernel_size=(3, 3), stride=(2, 2), padding=(1, 1))\n",
                            "    (7): BatchNorm2d(256, eps=1e-05, momentum=0.1, affine=True, track_running_stats=True)\n",
                            "    (8): ReLU()\n",
                            "    (9): Conv2d(256, 384, kernel_size=(3, 3), stride=(2, 2), padding=(1, 1))\n",
                            "    (10): BatchNorm2d(384, eps=1e-05, momentum=0.1, affine=True, track_running_stats=True)\n",
                            "    (11): ReLU()\n",
                            "    (12): Conv2d(384, 512, kernel_size=(3, 3), stride=(2, 2), padding=(1, 1))\n",
                            "    (13): BatchNorm2d(512, eps=1e-05, momentum=0.1, affine=True, track_running_stats=True)\n",
                            "    (14): ReLU()\n",
                            "    (15): Conv2d(512, 640, kernel_size=(3, 3), stride=(2, 2), padding=(1, 1))\n",
                            "    (16): BatchNorm2d(640, eps=1e-05, momentum=0.1, affine=True, track_running_stats=True)\n",
                            "    (17): ReLU()\n",
                            "    (18): Flatten(start_dim=1, end_dim=-1)\n",
                            "    (19): Linear(in_features=10240, out_features=1024, bias=True)\n",
                            "    (20): ReLU()\n",
                            "    (21): Linear(in_features=1024, out_features=5, bias=True)\n",
                            "  )\n",
                            ")"
                        ]
                    },
                    "execution_count": 6,
                    "metadata": {},
                    "output_type": "execute_result"
                }
            ],
            "source": [
                "model = MaskCNN(len(dataset.labels), config.img_dim, base_filter_size=config.base_filter_size)\n",
                "model = model.to(device)\n",
                "model.eval()"
            ]
        },
        {
            "cell_type": "code",
            "execution_count": null,
            "metadata": {},
            "outputs": [],
            "source": [
                "loss_fn = nn.CrossEntropyLoss()\n",
                "optimizer = optim.Adam(model.parameters(), lr=config.lr, weight_decay=config.weight_decay)"
            ]
        },
        {
            "cell_type": "code",
            "execution_count": null,
            "metadata": {},
            "outputs": [],
            "source": [
                "avg_loss = 0\n",
                "best_vloss = 999999\n",
                "\n",
                "for epoch in range(config.epochs):\n",
                "    # traning\n",
                "    model.train(True)\n",
                "    running_loss = 0.0\n",
                "    for i, data in enumerate(train_loader, 0):\n",
                "        images, labels = data[0].to(device), data[1].to(device)\n",
                "\n",
                "        optimizer.zero_grad()\n",
                "        out_labels = model(images)\n",
                "        loss = loss_fn(out_labels, labels)\n",
                "        loss.backward()\n",
                "        optimizer.step()\n",
                "\n",
                "        running_loss += loss.item()\n",
                "        # print every config.log_interval mini-batches\n",
                "        if i % config.log_interval == config.log_interval - 1:\n",
                "            avg_loss = running_loss / config.log_interval\n",
                "            print(f'[epoch_{epoch + 1}, batch_{i + 1}]\\ttrain_loss: {avg_loss:.3f}')\n",
                "            running_loss = 0.0\n",
                "            \n",
                "    # validation\n",
                "    model.train(False)\n",
                "    running_vloss = 0.0\n",
                "    with torch.no_grad():\n",
                "        for i, vdata in enumerate(valid_loader):\n",
                "            vimages, vlabels = vdata[0].to(device), vdata[1].to(device)\n",
                "            vout_labels = model(vimages)\n",
                "            vloss = loss_fn(vout_labels, vlabels)\n",
                "            running_vloss += vloss.item()\n",
                "\n",
                "    avg_vloss = running_vloss / (i + 1)\n",
                "    print(f'[epoch_{epoch + 1} ended]\\ttrain_loss: {avg_loss:.3f}, valid_loss: {avg_vloss:.3f}\\n')\n",
                "\n",
                "    # save the best model.\n",
                "    if avg_vloss < best_vloss:\n",
                "        best_vloss = avg_vloss\n",
                "        torch.save(model.state_dict(), f'../trained/MaskCNN_0.pt')\n",
                "\n",
                "print('\\ndone.')"
            ]
        },
        {
            "cell_type": "code",
            "execution_count": 7,
            "metadata": {},
            "outputs": [
                {
                    "data": {
                        "text/plain": [
                            "MaskCNN(\n",
                            "  (classifier): Sequential(\n",
                            "    (0): Conv2d(3, 64, kernel_size=(5, 5), stride=(2, 2), padding=(2, 2))\n",
                            "    (1): BatchNorm2d(64, eps=1e-05, momentum=0.1, affine=True, track_running_stats=True)\n",
                            "    (2): ReLU()\n",
                            "    (3): Conv2d(64, 128, kernel_size=(5, 5), stride=(2, 2), padding=(2, 2))\n",
                            "    (4): BatchNorm2d(128, eps=1e-05, momentum=0.1, affine=True, track_running_stats=True)\n",
                            "    (5): ReLU()\n",
                            "    (6): Conv2d(128, 256, kernel_size=(3, 3), stride=(2, 2), padding=(1, 1))\n",
                            "    (7): BatchNorm2d(256, eps=1e-05, momentum=0.1, affine=True, track_running_stats=True)\n",
                            "    (8): ReLU()\n",
                            "    (9): Conv2d(256, 384, kernel_size=(3, 3), stride=(2, 2), padding=(1, 1))\n",
                            "    (10): BatchNorm2d(384, eps=1e-05, momentum=0.1, affine=True, track_running_stats=True)\n",
                            "    (11): ReLU()\n",
                            "    (12): Conv2d(384, 512, kernel_size=(3, 3), stride=(2, 2), padding=(1, 1))\n",
                            "    (13): BatchNorm2d(512, eps=1e-05, momentum=0.1, affine=True, track_running_stats=True)\n",
                            "    (14): ReLU()\n",
                            "    (15): Conv2d(512, 640, kernel_size=(3, 3), stride=(2, 2), padding=(1, 1))\n",
                            "    (16): BatchNorm2d(640, eps=1e-05, momentum=0.1, affine=True, track_running_stats=True)\n",
                            "    (17): ReLU()\n",
                            "    (18): Flatten(start_dim=1, end_dim=-1)\n",
                            "    (19): Linear(in_features=10240, out_features=1024, bias=True)\n",
                            "    (20): ReLU()\n",
                            "    (21): Linear(in_features=1024, out_features=5, bias=True)\n",
                            "  )\n",
                            ")"
                        ]
                    },
                    "execution_count": 7,
                    "metadata": {},
                    "output_type": "execute_result"
                }
            ],
            "source": [
                "model.load_state_dict(torch.load('../trained/MaskCNN_0.pt'))\n",
                "model.eval()"
            ]
        },
        {
            "cell_type": "code",
            "execution_count": 8,
            "metadata": {},
            "outputs": [],
            "source": [
                "total = 0\n",
                "correct = 0\n",
                "\n",
                "total_per_class = [0, 0, 0, 0, 0]\n",
                "correct_per_class = [0, 0, 0, 0, 0]\n",
                "\n",
                "with torch.no_grad():\n",
                "    for data in valid_loader:\n",
                "        images, labels = data[0].to(device), data[1].to(device)\n",
                "\n",
                "        out_labels = model(images)\n",
                "        preds = torch.argmax(out_labels.data, dim=1)\n",
                "        total += labels.shape[0]\n",
                "        correct += (preds == labels).sum().item()\n",
                "        total_per_class[labels[0]] += labels.shape[0]\n",
                "        correct_per_class[labels[0]] += (preds == labels).sum().item()"
            ]
        },
        {
            "cell_type": "code",
            "execution_count": 9,
            "metadata": {},
            "outputs": [
                {
                    "name": "stdout",
                    "output_type": "stream",
                    "text": [
                        "val - accuracy: 80.5%\n",
                        "val - per class accuracy:\n",
                        " - no-mask: 96.88%\n",
                        " - surgical: 81.82%\n",
                        " - cloth: 74.22%\n",
                        " - n95: 76.56%\n",
                        " - n95-valve: 73.44%\n",
                        "val - avg accuracy: 80.58%\n"
                    ]
                }
            ],
            "source": [
                "total = np.array(total)\n",
                "correct = np.array(correct)\n",
                "print(f'val - accuracy: {np.around(100 * correct / total, 2)}%')\n",
                "\n",
                "total_per_class = np.array(total_per_class)\n",
                "correct_per_class = np.array(correct_per_class)\n",
                "acc_per_class = np.around(100 * correct_per_class / total_per_class, 2)\n",
                "\n",
                "print('val - per class accuracy:')\n",
                "for idx, acc in enumerate(acc_per_class):\n",
                "    print(f' - {dataset.label_to_str[idx]}: {acc}%')\n",
                "\n",
                "print(f'val - avg accuracy: {np.around(acc_per_class.mean(), 2)}%')"
            ]
        },
        {
            "cell_type": "code",
            "execution_count": 10,
            "metadata": {},
            "outputs": [],
            "source": [
                "total = 0\n",
                "correct = 0\n",
                "\n",
                "total_per_class = [0, 0, 0, 0, 0]\n",
                "correct_per_class = [0, 0, 0, 0, 0]\n",
                "\n",
                "with torch.no_grad():\n",
                "    for data in train_loader:\n",
                "        images, labels = data[0].to(device), data[1].to(device)\n",
                "\n",
                "        out_labels = model(images)\n",
                "        preds = torch.argmax(out_labels.data, dim=1)\n",
                "        total += labels.shape[0]\n",
                "        correct += (preds == labels).sum().item()\n",
                "        total_per_class[labels[0]] += labels.shape[0]\n",
                "        correct_per_class[labels[0]] += (preds == labels).sum().item()"
            ]
        },
        {
            "cell_type": "code",
            "execution_count": 11,
            "metadata": {},
            "outputs": [
                {
                    "name": "stdout",
                    "output_type": "stream",
                    "text": [
                        "train - accuracy: 100.0%\n",
                        "train - per class accuracy:\n",
                        " - no-mask: 100.0%\n",
                        " - surgical: 100.0%\n",
                        " - cloth: 100.0%\n",
                        " - n95: 100.0%\n",
                        " - n95-valve: 100.0%\n",
                        "train - avg accuracy: 100.0%\n"
                    ]
                }
            ],
            "source": [
                "total = np.array(total)\n",
                "correct = np.array(correct)\n",
                "print(f'train - accuracy: {np.around(100 * correct / total, 2)}%')\n",
                "\n",
                "total_per_class = np.array(total_per_class)\n",
                "correct_per_class = np.array(correct_per_class)\n",
                "acc_per_class = np.around(100 * correct_per_class / total_per_class, 2)\n",
                "\n",
                "print('train - per class accuracy:')\n",
                "for idx, acc in enumerate(acc_per_class):\n",
                "    print(f' - {dataset.label_to_str[idx]}: {acc}%')\n",
                "\n",
                "print(f'train - avg accuracy: {np.around(acc_per_class.mean(), 2)}%')"
            ]
        }
    ],
    "metadata": {
        "interpreter": {
            "hash": "678a7f023a315869c539266b01a0b2637ddd14761bfd019fe41760ec4e9d6b8e"
        },
        "kernelspec": {
            "display_name": "Python 3.9.7 64-bit ('base': conda)",
            "language": "python",
            "name": "python3"
        },
        "language_info": {
            "codemirror_mode": {
                "name": "ipython",
                "version": 3
            },
            "file_extension": ".py",
            "mimetype": "text/x-python",
            "name": "python",
            "nbconvert_exporter": "python",
            "pygments_lexer": "ipython3",
            "version": "3.6.13"
        },
        "orig_nbformat": 4
    },
    "nbformat": 4,
    "nbformat_minor": 2
}
